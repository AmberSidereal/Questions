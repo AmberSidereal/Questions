{
  "cells": [
    {
      "cell_type": "code",
      "execution_count": null,
      "metadata": {
        "id": "j8MPM5J1pqSZ"
      },
      "outputs": [],
      "source": []
    },
    {
      "cell_type": "code",
      "execution_count": null,
      "metadata": {
        "colab": {
          "background_save": true,
          "base_uri": "https://localhost:8080/"
        },
        "id": "8lzLPRzxqDtT",
        "outputId": "35ba26dc-42b0-453c-a023-2e02e3946610"
      },
      "outputs": [
        {
          "name": "stdout",
          "output_type": "stream",
          "text": [
            "Integer Calculator by Amber Lam\n",
            "It's True that the statement is False\n",
            "Integer calculator\n"
          ]
        }
      ],
      "source": [
        "# @title\n",
        "\n",
        "  print(\"Integer Calculator by Amber Lam\")\n",
        "  first = input(\"First number?\")\n",
        "  op = input(\"Operation? + - * /\")\n",
        "  second = input(\"Second number\")\n",
        "  if op == \"+\":\n",
        "    print(int(first) + int(second))\n",
        "  elif op == \"-\":\n",
        "    print(int(first) - int(second))\n",
        "  elif op == \"*\":\n",
        "   print(int(first) * int(second))\n",
        "  else:\n",
        "   print(int(first) / int(second))"
      ]
    },
    {
      "cell_type": "markdown",
      "metadata": {
        "id": "fhBFA8tMq56y"
      },
      "source": [
        "."
      ]
    }
  ],
  "metadata": {
    "colab": {
      "provenance": []
    },
    "kernelspec": {
      "display_name": "Python 3",
      "name": "python3"
    },
    "language_info": {
      "name": "python"
    }
  },
  "nbformat": 4,
  "nbformat_minor": 0
}